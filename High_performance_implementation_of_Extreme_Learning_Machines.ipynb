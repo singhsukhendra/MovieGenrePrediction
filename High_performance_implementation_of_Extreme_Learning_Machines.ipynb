{
  "nbformat": 4,
  "nbformat_minor": 0,
  "metadata": {
    "colab": {
      "name": "High performance implementation of Extreme Learning Machines.ipynb",
      "version": "0.3.2",
      "provenance": [],
      "private_outputs": true,
      "collapsed_sections": [],
      "toc_visible": true,
      "machine_shape": "hm",
      "include_colab_link": true
    },
    "kernelspec": {
      "name": "python3",
      "display_name": "Python 3"
    },
    "accelerator": "GPU"
  },
  "cells": [
    {
      "cell_type": "markdown",
      "metadata": {
        "id": "view-in-github",
        "colab_type": "text"
      },
      "source": [
        "<a href=\"https://colab.research.google.com/github/singhsukhendra/MovieGenrePrediction/blob/master/High_performance_implementation_of_Extreme_Learning_Machines.ipynb\" target=\"_parent\"><img src=\"https://colab.research.google.com/assets/colab-badge.svg\" alt=\"Open In Colab\"/></a>"
      ]
    },
    {
      "cell_type": "code",
      "metadata": {
        "id": "cutxGXgJ6_NX",
        "colab_type": "code",
        "colab": {}
      },
      "source": [
        "import numpy as np"
      ],
      "execution_count": 0,
      "outputs": []
    },
    {
      "cell_type": "code",
      "metadata": {
        "id": "vOrSdfCcFnm9",
        "colab_type": "code",
        "colab": {}
      },
      "source": [
        "! git clone https://github.com/akusok/hpelm.git"
      ],
      "execution_count": 0,
      "outputs": []
    },
    {
      "cell_type": "code",
      "metadata": {
        "id": "Tc-PQBIVFwUu",
        "colab_type": "code",
        "colab": {}
      },
      "source": [
        "! pip install hpelm"
      ],
      "execution_count": 0,
      "outputs": []
    },
    {
      "cell_type": "code",
      "metadata": {
        "id": "GI_SpIZw7CYK",
        "colab_type": "code",
        "colab": {}
      },
      "source": [
        "import hpelm"
      ],
      "execution_count": 0,
      "outputs": []
    },
    {
      "cell_type": "code",
      "metadata": {
        "id": "3dmo7Pgs7C7F",
        "colab_type": "code",
        "colab": {}
      },
      "source": [
        "from sklearn.datasets import make_moons, make_regression\n",
        "from sklearn.ensemble import RandomForestClassifier\n",
        "from sklearn.model_selection import train_test_split"
      ],
      "execution_count": 0,
      "outputs": []
    },
    {
      "cell_type": "code",
      "metadata": {
        "id": "R9y95pUL7Fcg",
        "colab_type": "code",
        "colab": {}
      },
      "source": [
        "import matplotlib\n",
        "from matplotlib import pyplot as plt\n",
        "%matplotlib inline\n",
        "%config InlineBackend.figure_format = 'retina'\n",
        "matplotlib.rcParams['figure.figsize'] = [10, 8]"
      ],
      "execution_count": 0,
      "outputs": []
    },
    {
      "cell_type": "code",
      "metadata": {
        "id": "JJsWgecZ7NBD",
        "colab_type": "code",
        "colab": {}
      },
      "source": [
        "X, Y = make_moons(n_samples=2000000, noise=0.3)\n",
        "Xt, Xs, Yt, Ys = train_test_split(X, Y, test_size=0.3)\n",
        "subs = 1000  # subsampling for plots\n",
        "L = 100  # number of non-linear neurons"
      ],
      "execution_count": 0,
      "outputs": []
    },
    {
      "cell_type": "code",
      "metadata": {
        "id": "6YiAtS9i7TqX",
        "colab_type": "code",
        "colab": {}
      },
      "source": [
        "plt.scatter(Xs[Ys==0, 0][::subs], Xs[Ys==0, 1][::subs], c=\"r\")\n",
        "plt.scatter(Xs[Ys==1, 0][::subs], Xs[Ys==1, 1][::subs], c=\"b\")\n",
        "plt.show()"
      ],
      "execution_count": 0,
      "outputs": []
    },
    {
      "cell_type": "code",
      "metadata": {
        "id": "_NnjyXO67apx",
        "colab_type": "code",
        "colab": {}
      },
      "source": [
        "rfc = RandomForestClassifier(n_estimators=8, n_jobs=-1)\n",
        "%time rfc.fit(Xt, Yt)\n",
        "Yh = rfc.predict(Xs)"
      ],
      "execution_count": 0,
      "outputs": []
    },
    {
      "cell_type": "code",
      "metadata": {
        "id": "fXq2AMgQ7bPu",
        "colab_type": "code",
        "colab": {}
      },
      "source": [
        "plt.scatter(Xs[Yh==0, 0][::subs], Xs[Yh==0, 1][::subs], c=\"r\")\n",
        "plt.scatter(Xs[Yh==1, 0][::subs], Xs[Yh==1, 1][::subs], c=\"b\")\n",
        "plt.show()"
      ],
      "execution_count": 0,
      "outputs": []
    },
    {
      "cell_type": "code",
      "metadata": {
        "id": "6ALA9uTt_kVo",
        "colab_type": "code",
        "colab": {}
      },
      "source": [
        "elm = hpelm.HPELM(2, 1, precision='double', norm=1)"
      ],
      "execution_count": 0,
      "outputs": []
    },
    {
      "cell_type": "code",
      "metadata": {
        "id": "XQpsxC4q_51q",
        "colab_type": "code",
        "colab": {}
      },
      "source": [
        "elm.add_neurons(2, 'lin')\n",
        "elm.add_neurons(L, 'tanh')"
      ],
      "execution_count": 0,
      "outputs": []
    },
    {
      "cell_type": "code",
      "metadata": {
        "id": "O537R2LV_84h",
        "colab_type": "code",
        "colab": {}
      },
      "source": [
        "%time elm.train(Xt, Yt)"
      ],
      "execution_count": 0,
      "outputs": []
    },
    {
      "cell_type": "code",
      "metadata": {
        "id": "xc4Pg_gbAC1d",
        "colab_type": "code",
        "colab": {}
      },
      "source": [
        "Yh = elm.predict(Xs)"
      ],
      "execution_count": 0,
      "outputs": []
    },
    {
      "cell_type": "code",
      "metadata": {
        "id": "y6Dqt6XkAGUU",
        "colab_type": "code",
        "colab": {}
      },
      "source": [
        "Yh = np.array(Yh[:,0] > 0.5, dtype=np.int)"
      ],
      "execution_count": 0,
      "outputs": []
    },
    {
      "cell_type": "code",
      "metadata": {
        "id": "xp_6tu61ALyr",
        "colab_type": "code",
        "colab": {}
      },
      "source": [
        "plt.scatter(Xs[Yh==0, 0][::subs], Xs[Yh==0, 1][::subs], c=\"r\")\n",
        "plt.scatter(Xs[Yh==1, 0][::subs], Xs[Yh==1, 1][::subs], c=\"b\")\n",
        "plt.show()"
      ],
      "execution_count": 0,
      "outputs": []
    },
    {
      "cell_type": "code",
      "metadata": {
        "id": "ZR4HZZ87AQwj",
        "colab_type": "code",
        "colab": {}
      },
      "source": [
        ""
      ],
      "execution_count": 0,
      "outputs": []
    },
    {
      "cell_type": "markdown",
      "metadata": {
        "id": "_45VD770ASbL",
        "colab_type": "text"
      },
      "source": [
        "# Run HPELM+GPU"
      ]
    },
    {
      "cell_type": "code",
      "metadata": {
        "id": "NJDRrUpVAX3D",
        "colab_type": "code",
        "colab": {}
      },
      "source": [
        "import os"
      ],
      "execution_count": 0,
      "outputs": []
    },
    {
      "cell_type": "code",
      "metadata": {
        "id": "_uNIxCDjAfMy",
        "colab_type": "code",
        "colab": {}
      },
      "source": [
        "elm2 = hpelm.HPELM(2, 1, precision='single', accelerator=\"GPU\", norm=1)"
      ],
      "execution_count": 0,
      "outputs": []
    },
    {
      "cell_type": "code",
      "metadata": {
        "id": "wmikO_onB-D_",
        "colab_type": "code",
        "colab": {}
      },
      "source": [
        "!pip install scikit-cuda"
      ],
      "execution_count": 0,
      "outputs": []
    },
    {
      "cell_type": "code",
      "metadata": {
        "id": "naVnFiL4Bfw5",
        "colab_type": "code",
        "colab": {}
      },
      "source": [
        "elm2 = hpelm.HPELM(2, 1, precision='single', accelerator=\"GPU\", norm=1)"
      ],
      "execution_count": 0,
      "outputs": []
    },
    {
      "cell_type": "code",
      "metadata": {
        "id": "_TpajsMdCU56",
        "colab_type": "code",
        "colab": {}
      },
      "source": [
        "elm2.add_neurons(2, 'lin')\n",
        "elm2.add_neurons(L, 'tanh')"
      ],
      "execution_count": 0,
      "outputs": []
    },
    {
      "cell_type": "code",
      "metadata": {
        "id": "Nk0AsCXvCXqA",
        "colab_type": "code",
        "colab": {}
      },
      "source": [
        "%time elm2.train(Xt, Yt)"
      ],
      "execution_count": 0,
      "outputs": []
    },
    {
      "cell_type": "code",
      "metadata": {
        "id": "CiZ5GPtECeMH",
        "colab_type": "code",
        "colab": {}
      },
      "source": [
        "Yh = elm2.predict(Xs)"
      ],
      "execution_count": 0,
      "outputs": []
    },
    {
      "cell_type": "code",
      "metadata": {
        "id": "Ya0_KIt2CtaD",
        "colab_type": "code",
        "colab": {}
      },
      "source": [
        "Yh = np.array(Yh[:,0] > 0.5, dtype=np.int)"
      ],
      "execution_count": 0,
      "outputs": []
    },
    {
      "cell_type": "code",
      "metadata": {
        "id": "qzINPGjaCv0L",
        "colab_type": "code",
        "colab": {}
      },
      "source": [
        "plt.scatter(Xs[Yh==0, 0][::subs], Xs[Yh==0, 1][::subs], c=\"r\")\n",
        "plt.scatter(Xs[Yh==1, 0][::subs], Xs[Yh==1, 1][::subs], c=\"b\")\n",
        "plt.show()"
      ],
      "execution_count": 0,
      "outputs": []
    },
    {
      "cell_type": "markdown",
      "metadata": {
        "id": "qr9G0WHrDc2n",
        "colab_type": "text"
      },
      "source": [
        "# Dummy task with very large **data**"
      ]
    },
    {
      "cell_type": "code",
      "metadata": {
        "id": "NgZlvk2PDfOs",
        "colab_type": "code",
        "colab": {}
      },
      "source": [
        "X_big = np.random.randn(10000000, 200)  # 10 million samples"
      ],
      "execution_count": 0,
      "outputs": []
    },
    {
      "cell_type": "code",
      "metadata": {
        "id": "lkQXd2r7Dl0b",
        "colab_type": "code",
        "colab": {}
      },
      "source": [
        "import numpy as np\n",
        "# outputs are sums of first 10 and second 10 input values\n",
        "Y_big = np.stack((X_big[:, :10].sum(1), X_big[:, 10:20].sum(1))).T\n",
        "Y_big.shape"
      ],
      "execution_count": 0,
      "outputs": []
    },
    {
      "cell_type": "code",
      "metadata": {
        "id": "t9f0eVm4Dso9",
        "colab_type": "code",
        "colab": {}
      },
      "source": [
        "elm_cpu = hpelm.HPELM(200, 2)\n",
        "elm_gpu = hpelm.HPELM(200, 2, precision=\"single\", accelerator=\"GPU\")"
      ],
      "execution_count": 0,
      "outputs": []
    },
    {
      "cell_type": "code",
      "metadata": {
        "id": "zUIn6B7qDu76",
        "colab_type": "code",
        "colab": {}
      },
      "source": [
        "elm_cpu.add_neurons(200, 'lin')\n",
        "elm_cpu.add_neurons(1000, 'tanh')\n",
        "\n",
        "elm_gpu.add_neurons(200, 'lin')\n",
        "elm_gpu.add_neurons(1000, 'tanh')"
      ],
      "execution_count": 0,
      "outputs": []
    },
    {
      "cell_type": "code",
      "metadata": {
        "id": "CO3sUbpRDyP5",
        "colab_type": "code",
        "colab": {}
      },
      "source": [
        "%%time\n",
        "elm_cpu.train(X_big, Y_big)"
      ],
      "execution_count": 0,
      "outputs": []
    },
    {
      "cell_type": "code",
      "metadata": {
        "id": "cIqiFkDpD0_y",
        "colab_type": "code",
        "colab": {}
      },
      "source": [
        "%%time\n",
        "elm_gpu.train(X_big, Y_big)"
      ],
      "execution_count": 0,
      "outputs": []
    },
    {
      "cell_type": "markdown",
      "metadata": {
        "id": "VvzPCSoFD4Wp",
        "colab_type": "text"
      },
      "source": [
        "## plots checking that output weights correctly correspond to sum of first 10 inputs and the next 10 **inputs**"
      ]
    },
    {
      "cell_type": "code",
      "metadata": {
        "id": "070asIBjD7mC",
        "colab_type": "code",
        "colab": {}
      },
      "source": [
        "from matplotlib import pyplot as plt\n",
        "B_cpu = elm_cpu.nnet.get_B()\n",
        "plt.plot(range(1200), B_cpu[:,0])\n",
        "plt.plot(range(1200), B_cpu[:,1])\n",
        "plt.xlim([0, 50])\n",
        "plt.show()"
      ],
      "execution_count": 0,
      "outputs": []
    },
    {
      "cell_type": "code",
      "metadata": {
        "id": "X2_KksvqELtc",
        "colab_type": "code",
        "colab": {}
      },
      "source": [
        "B_gpu = elm_gpu.nnet.get_B()  # this corectly downloads weights from GPU back to main memory\n",
        "plt.plot(range(1200), B_gpu[:,0])\n",
        "plt.plot(range(1200), B_gpu[:,1])\n",
        "plt.xlim([0, 50])\n",
        "plt.show()"
      ],
      "execution_count": 0,
      "outputs": []
    },
    {
      "cell_type": "code",
      "metadata": {
        "id": "Oc25fmKtVsQa",
        "colab_type": "code",
        "colab": {}
      },
      "source": [
        ""
      ],
      "execution_count": 0,
      "outputs": []
    }
  ]
}